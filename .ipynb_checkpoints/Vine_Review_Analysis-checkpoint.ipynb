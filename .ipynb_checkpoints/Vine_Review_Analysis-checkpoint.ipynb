{
 "cells": [
  {
   "cell_type": "code",
   "execution_count": 1,
   "id": "7321665f",
   "metadata": {
    "scrolled": true
   },
   "outputs": [],
   "source": [
    "import pandas as pd\n",
    "df = pd.read_csv(\"vines.csv\")"
   ]
  },
  {
   "cell_type": "code",
   "execution_count": 2,
   "id": "9c140036",
   "metadata": {
    "scrolled": true
   },
   "outputs": [
    {
     "name": "stdout",
     "output_type": "stream",
     "text": [
      "{'review_id': dtype('O'), 'star_rating': dtype('float64'), 'helpful_votes': dtype('float64'), 'total_votes': dtype('float64'), 'vine': dtype('O'), 'verified_purchase': dtype('O')}\n"
     ]
    }
   ],
   "source": [
    "dataTypeDict = dict(df.dtypes)\n",
    "print(dataTypeDict)\n",
    "\n",
    "filtered_df = df[df[\"total_votes\"] >= 20.0]"
   ]
  },
  {
   "cell_type": "code",
   "execution_count": 3,
   "id": "d6b0b9c2",
   "metadata": {},
   "outputs": [],
   "source": [
    "helpful_df = filtered_df[filtered_df[\"helpful_votes\"]/filtered_df[\"total_votes\"] >= 0.5]"
   ]
  },
  {
   "cell_type": "code",
   "execution_count": 4,
   "id": "09e6aebe",
   "metadata": {
    "scrolled": true
   },
   "outputs": [
    {
     "data": {
      "text/html": [
       "<div>\n",
       "<style scoped>\n",
       "    .dataframe tbody tr th:only-of-type {\n",
       "        vertical-align: middle;\n",
       "    }\n",
       "\n",
       "    .dataframe tbody tr th {\n",
       "        vertical-align: top;\n",
       "    }\n",
       "\n",
       "    .dataframe thead th {\n",
       "        text-align: right;\n",
       "    }\n",
       "</style>\n",
       "<table border=\"1\" class=\"dataframe\">\n",
       "  <thead>\n",
       "    <tr style=\"text-align: right;\">\n",
       "      <th></th>\n",
       "      <th>review_id</th>\n",
       "      <th>star_rating</th>\n",
       "      <th>helpful_votes</th>\n",
       "      <th>total_votes</th>\n",
       "      <th>vine</th>\n",
       "      <th>verified_purchase</th>\n",
       "    </tr>\n",
       "  </thead>\n",
       "  <tbody>\n",
       "    <tr>\n",
       "      <th>319</th>\n",
       "      <td>R1S0N56H5B9SUX</td>\n",
       "      <td>5.0</td>\n",
       "      <td>30.0</td>\n",
       "      <td>30.0</td>\n",
       "      <td>N</td>\n",
       "      <td>Y</td>\n",
       "    </tr>\n",
       "    <tr>\n",
       "      <th>5683</th>\n",
       "      <td>RCDI7Z8VCZJI9</td>\n",
       "      <td>4.0</td>\n",
       "      <td>40.0</td>\n",
       "      <td>43.0</td>\n",
       "      <td>N</td>\n",
       "      <td>N</td>\n",
       "    </tr>\n",
       "    <tr>\n",
       "      <th>9260</th>\n",
       "      <td>R2LWBYC8TEUVF2</td>\n",
       "      <td>5.0</td>\n",
       "      <td>50.0</td>\n",
       "      <td>53.0</td>\n",
       "      <td>N</td>\n",
       "      <td>Y</td>\n",
       "    </tr>\n",
       "    <tr>\n",
       "      <th>9508</th>\n",
       "      <td>R23E4EIJXID5IC</td>\n",
       "      <td>5.0</td>\n",
       "      <td>43.0</td>\n",
       "      <td>43.0</td>\n",
       "      <td>N</td>\n",
       "      <td>N</td>\n",
       "    </tr>\n",
       "    <tr>\n",
       "      <th>10064</th>\n",
       "      <td>R1WFSWDT8L5RSJ</td>\n",
       "      <td>4.0</td>\n",
       "      <td>23.0</td>\n",
       "      <td>26.0</td>\n",
       "      <td>N</td>\n",
       "      <td>N</td>\n",
       "    </tr>\n",
       "  </tbody>\n",
       "</table>\n",
       "</div>"
      ],
      "text/plain": [
       "            review_id  star_rating  helpful_votes  total_votes vine  \\\n",
       "319    R1S0N56H5B9SUX          5.0           30.0         30.0    N   \n",
       "5683    RCDI7Z8VCZJI9          4.0           40.0         43.0    N   \n",
       "9260   R2LWBYC8TEUVF2          5.0           50.0         53.0    N   \n",
       "9508   R23E4EIJXID5IC          5.0           43.0         43.0    N   \n",
       "10064  R1WFSWDT8L5RSJ          4.0           23.0         26.0    N   \n",
       "\n",
       "      verified_purchase  \n",
       "319                   Y  \n",
       "5683                  N  \n",
       "9260                  Y  \n",
       "9508                  N  \n",
       "10064                 N  "
      ]
     },
     "execution_count": 4,
     "metadata": {},
     "output_type": "execute_result"
    }
   ],
   "source": [
    "helpful_df.head()"
   ]
  },
  {
   "cell_type": "code",
   "execution_count": 5,
   "id": "bbc89403",
   "metadata": {},
   "outputs": [],
   "source": [
    "paid_df =helpful_df[helpful_df[\"vine\"]=='Y']#there are no paid reviews\n",
    "unpaid_df =helpful_df[helpful_df[\"vine\"]=='N']"
   ]
  },
  {
   "cell_type": "code",
   "execution_count": 6,
   "id": "476537f8",
   "metadata": {},
   "outputs": [
    {
     "data": {
      "text/html": [
       "<div>\n",
       "<style scoped>\n",
       "    .dataframe tbody tr th:only-of-type {\n",
       "        vertical-align: middle;\n",
       "    }\n",
       "\n",
       "    .dataframe tbody tr th {\n",
       "        vertical-align: top;\n",
       "    }\n",
       "\n",
       "    .dataframe thead th {\n",
       "        text-align: right;\n",
       "    }\n",
       "</style>\n",
       "<table border=\"1\" class=\"dataframe\">\n",
       "  <thead>\n",
       "    <tr style=\"text-align: right;\">\n",
       "      <th></th>\n",
       "      <th>review_id</th>\n",
       "      <th>star_rating</th>\n",
       "      <th>helpful_votes</th>\n",
       "      <th>total_votes</th>\n",
       "      <th>vine</th>\n",
       "      <th>verified_purchase</th>\n",
       "    </tr>\n",
       "  </thead>\n",
       "  <tbody>\n",
       "  </tbody>\n",
       "</table>\n",
       "</div>"
      ],
      "text/plain": [
       "Empty DataFrame\n",
       "Columns: [review_id, star_rating, helpful_votes, total_votes, vine, verified_purchase]\n",
       "Index: []"
      ]
     },
     "execution_count": 6,
     "metadata": {},
     "output_type": "execute_result"
    }
   ],
   "source": [
    "paid_df.head()"
   ]
  },
  {
   "cell_type": "code",
   "execution_count": 7,
   "id": "07be64d8",
   "metadata": {},
   "outputs": [
    {
     "data": {
      "text/html": [
       "<div>\n",
       "<style scoped>\n",
       "    .dataframe tbody tr th:only-of-type {\n",
       "        vertical-align: middle;\n",
       "    }\n",
       "\n",
       "    .dataframe tbody tr th {\n",
       "        vertical-align: top;\n",
       "    }\n",
       "\n",
       "    .dataframe thead th {\n",
       "        text-align: right;\n",
       "    }\n",
       "</style>\n",
       "<table border=\"1\" class=\"dataframe\">\n",
       "  <thead>\n",
       "    <tr style=\"text-align: right;\">\n",
       "      <th></th>\n",
       "      <th>review_id</th>\n",
       "      <th>star_rating</th>\n",
       "      <th>helpful_votes</th>\n",
       "      <th>total_votes</th>\n",
       "      <th>vine</th>\n",
       "      <th>verified_purchase</th>\n",
       "    </tr>\n",
       "  </thead>\n",
       "  <tbody>\n",
       "    <tr>\n",
       "      <th>319</th>\n",
       "      <td>R1S0N56H5B9SUX</td>\n",
       "      <td>5.0</td>\n",
       "      <td>30.0</td>\n",
       "      <td>30.0</td>\n",
       "      <td>N</td>\n",
       "      <td>Y</td>\n",
       "    </tr>\n",
       "    <tr>\n",
       "      <th>5683</th>\n",
       "      <td>RCDI7Z8VCZJI9</td>\n",
       "      <td>4.0</td>\n",
       "      <td>40.0</td>\n",
       "      <td>43.0</td>\n",
       "      <td>N</td>\n",
       "      <td>N</td>\n",
       "    </tr>\n",
       "    <tr>\n",
       "      <th>9260</th>\n",
       "      <td>R2LWBYC8TEUVF2</td>\n",
       "      <td>5.0</td>\n",
       "      <td>50.0</td>\n",
       "      <td>53.0</td>\n",
       "      <td>N</td>\n",
       "      <td>Y</td>\n",
       "    </tr>\n",
       "    <tr>\n",
       "      <th>9508</th>\n",
       "      <td>R23E4EIJXID5IC</td>\n",
       "      <td>5.0</td>\n",
       "      <td>43.0</td>\n",
       "      <td>43.0</td>\n",
       "      <td>N</td>\n",
       "      <td>N</td>\n",
       "    </tr>\n",
       "    <tr>\n",
       "      <th>10064</th>\n",
       "      <td>R1WFSWDT8L5RSJ</td>\n",
       "      <td>4.0</td>\n",
       "      <td>23.0</td>\n",
       "      <td>26.0</td>\n",
       "      <td>N</td>\n",
       "      <td>N</td>\n",
       "    </tr>\n",
       "  </tbody>\n",
       "</table>\n",
       "</div>"
      ],
      "text/plain": [
       "            review_id  star_rating  helpful_votes  total_votes vine  \\\n",
       "319    R1S0N56H5B9SUX          5.0           30.0         30.0    N   \n",
       "5683    RCDI7Z8VCZJI9          4.0           40.0         43.0    N   \n",
       "9260   R2LWBYC8TEUVF2          5.0           50.0         53.0    N   \n",
       "9508   R23E4EIJXID5IC          5.0           43.0         43.0    N   \n",
       "10064  R1WFSWDT8L5RSJ          4.0           23.0         26.0    N   \n",
       "\n",
       "      verified_purchase  \n",
       "319                   Y  \n",
       "5683                  N  \n",
       "9260                  Y  \n",
       "9508                  N  \n",
       "10064                 N  "
      ]
     },
     "execution_count": 7,
     "metadata": {},
     "output_type": "execute_result"
    }
   ],
   "source": [
    "unpaid_df.head()"
   ]
  },
  {
   "cell_type": "code",
   "execution_count": 8,
   "id": "e3d7c922",
   "metadata": {},
   "outputs": [
    {
     "data": {
      "text/html": [
       "<div>\n",
       "<style scoped>\n",
       "    .dataframe tbody tr th:only-of-type {\n",
       "        vertical-align: middle;\n",
       "    }\n",
       "\n",
       "    .dataframe tbody tr th {\n",
       "        vertical-align: top;\n",
       "    }\n",
       "\n",
       "    .dataframe thead th {\n",
       "        text-align: right;\n",
       "    }\n",
       "</style>\n",
       "<table border=\"1\" class=\"dataframe\">\n",
       "  <thead>\n",
       "    <tr style=\"text-align: right;\">\n",
       "      <th></th>\n",
       "      <th>review_id</th>\n",
       "      <th>star_rating</th>\n",
       "      <th>helpful_votes</th>\n",
       "      <th>total_votes</th>\n",
       "      <th>vine</th>\n",
       "      <th>verified_purchase</th>\n",
       "    </tr>\n",
       "  </thead>\n",
       "  <tbody>\n",
       "    <tr>\n",
       "      <th>319</th>\n",
       "      <td>R1S0N56H5B9SUX</td>\n",
       "      <td>5.0</td>\n",
       "      <td>30.0</td>\n",
       "      <td>30.0</td>\n",
       "      <td>N</td>\n",
       "      <td>Y</td>\n",
       "    </tr>\n",
       "    <tr>\n",
       "      <th>9260</th>\n",
       "      <td>R2LWBYC8TEUVF2</td>\n",
       "      <td>5.0</td>\n",
       "      <td>50.0</td>\n",
       "      <td>53.0</td>\n",
       "      <td>N</td>\n",
       "      <td>Y</td>\n",
       "    </tr>\n",
       "    <tr>\n",
       "      <th>9508</th>\n",
       "      <td>R23E4EIJXID5IC</td>\n",
       "      <td>5.0</td>\n",
       "      <td>43.0</td>\n",
       "      <td>43.0</td>\n",
       "      <td>N</td>\n",
       "      <td>N</td>\n",
       "    </tr>\n",
       "    <tr>\n",
       "      <th>10117</th>\n",
       "      <td>R37LMHN02KOER1</td>\n",
       "      <td>5.0</td>\n",
       "      <td>50.0</td>\n",
       "      <td>50.0</td>\n",
       "      <td>N</td>\n",
       "      <td>N</td>\n",
       "    </tr>\n",
       "    <tr>\n",
       "      <th>12352</th>\n",
       "      <td>R2NPE00F48X0ET</td>\n",
       "      <td>5.0</td>\n",
       "      <td>22.0</td>\n",
       "      <td>27.0</td>\n",
       "      <td>N</td>\n",
       "      <td>N</td>\n",
       "    </tr>\n",
       "  </tbody>\n",
       "</table>\n",
       "</div>"
      ],
      "text/plain": [
       "            review_id  star_rating  helpful_votes  total_votes vine  \\\n",
       "319    R1S0N56H5B9SUX          5.0           30.0         30.0    N   \n",
       "9260   R2LWBYC8TEUVF2          5.0           50.0         53.0    N   \n",
       "9508   R23E4EIJXID5IC          5.0           43.0         43.0    N   \n",
       "10117  R37LMHN02KOER1          5.0           50.0         50.0    N   \n",
       "12352  R2NPE00F48X0ET          5.0           22.0         27.0    N   \n",
       "\n",
       "      verified_purchase  \n",
       "319                   Y  \n",
       "9260                  Y  \n",
       "9508                  N  \n",
       "10117                 N  \n",
       "12352                 N  "
      ]
     },
     "execution_count": 8,
     "metadata": {},
     "output_type": "execute_result"
    }
   ],
   "source": [
    "fiveStar_df = unpaid_df[unpaid_df[\"star_rating\"] == 5]\n",
    "paid_fiveStar_df = paid_df[paid_df[\"star_rating\"] == 5] #there are no paid reviews\n",
    "\n",
    "fiveStar_df.head()"
   ]
  },
  {
   "cell_type": "code",
   "execution_count": 9,
   "id": "e5c8691b",
   "metadata": {},
   "outputs": [
    {
     "name": "stdout",
     "output_type": "stream",
     "text": [
      "0 total paid reviews\n",
      "0% of paid reviews were five star\n",
      "4532 total unpaid reviews\n",
      "55.32% of unpaid reviews were five star\n"
     ]
    }
   ],
   "source": [
    "total_paid = len(paid_df)\n",
    "total_paid_fiveStar = len(paid_fiveStar_df)\n",
    "\n",
    "total_unpaid = len(unpaid_df)\n",
    "total_unpaid_fiveStar = len(fiveStar_df)\n",
    "\n",
    "unpaid_fiveStar_percentage = round(((total_unpaid_fiveStar/total_unpaid)*100),2)\n",
    "\n",
    "if total_paid == 0:\n",
    "    paid_fiveStar_percentage = \"0\"\n",
    "else:\n",
    "    paid_fiveStar_percentage = round(((total_paid_fiveStar/total_paid)*100),2)\n",
    "    \n",
    "    \n",
    "print(str(total_paid) + \" total paid reviews\")\n",
    "print(str(paid_fiveStar_percentage) + \"% of paid reviews were five star\")\n",
    "\n",
    "print(str(total_unpaid) + \" total unpaid reviews\")\n",
    "print(str(unpaid_fiveStar_percentage) + \"% of unpaid reviews were five star\")"
   ]
  }
 ],
 "metadata": {
  "kernelspec": {
   "display_name": "PythonData",
   "language": "python",
   "name": "pythondata"
  },
  "language_info": {
   "codemirror_mode": {
    "name": "ipython",
    "version": 3
   },
   "file_extension": ".py",
   "mimetype": "text/x-python",
   "name": "python",
   "nbconvert_exporter": "python",
   "pygments_lexer": "ipython3",
   "version": "3.7.10"
  }
 },
 "nbformat": 4,
 "nbformat_minor": 5
}
